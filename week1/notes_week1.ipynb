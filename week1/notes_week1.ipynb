{
 "cells": [
  {
   "cell_type": "markdown",
   "metadata": {},
   "source": [
    "<hr>\n",
    "<div style=\"background-color: lightgray; padding: 20px; color: black;\">\n",
    "<div>\n",
    "<img src=\"https://upload.wikimedia.org/wikipedia/commons/thumb/9/97/Coursera-Logo_600x600.svg/1024px-Coursera-Logo_600x600.svg.png\" style=\"float: right; margin-right: 30px;\" width=\"120\"/> \n",
    "<font size=\"6.5\" color=\"#0056D2\"><b>Composing File and Data Solutions</b></font> <br>\n",
    "<font size=\"5.5\" color=\"#0056D2\"><b>Working with Data in Python </b></font> \n",
    "</div>\n",
    "<div style=\"text-align: left\">  <br>\n",
    "Edison David Serrano Cárdenas. <br>\n",
    "MSc in Applied Mathematics <br>\n",
    "CIMAT - Sede Guanajuato <br>\n",
    "</div>\n",
    "\n",
    "</div>\n",
    "<hr>"
   ]
  },
  {
   "cell_type": "markdown",
   "metadata": {},
   "source": [
    "##  <font color=\"#0056D2\" >**Objetives**</font> \n",
    "In this module, you will learn how to effectively use Python’s data structures to load, persist, and iterate over data. You will apply these data structures to solve different problems when working with popular data formats like JSON."
   ]
  },
  {
   "cell_type": "markdown",
   "metadata": {},
   "source": [
    "Load Packages:"
   ]
  },
  {
   "cell_type": "code",
   "execution_count": 7,
   "metadata": {},
   "outputs": [],
   "source": [
    "import os"
   ]
  },
  {
   "cell_type": "markdown",
   "metadata": {},
   "source": [
    "# <font color=\"#0056D2\" >**Exploring Data Structures in Python**</font> "
   ]
  },
  {
   "cell_type": "markdown",
   "metadata": {},
   "source": [
    "<font color=\"#0056D2\" >**Using Lists to Save and Retrieve Data in Python**</font> "
   ]
  },
  {
   "cell_type": "code",
   "execution_count": 12,
   "metadata": {},
   "outputs": [
    {
     "name": "stdout",
     "output_type": "stream",
     "text": [
      "List after insert:\t  ['David', 'Pablo', 'Oscar']\n",
      "Pablo index in list:\t  1\n",
      "Files in main folder:\t  ['week1', '.git', 'README.md', 'LICENSE']\n"
     ]
    }
   ],
   "source": [
    "list_names = [\"Pablo\",\"Oscar\"]\n",
    "list_names.insert(0,\"David\")\n",
    "print(\"List after insert:\\t \",list_names)\n",
    "print(\"Pablo index in list:\\t \",list_names.index('Pablo'))\n",
    "\n",
    "directories = os.listdir('..')\n",
    "print(\"Files in main folder:\\t \",directories)"
   ]
  },
  {
   "cell_type": "markdown",
   "metadata": {},
   "source": [
    "Using index with a non-existent name generate a ValueError"
   ]
  },
  {
   "cell_type": "code",
   "execution_count": 13,
   "metadata": {},
   "outputs": [
    {
     "ename": "ValueError",
     "evalue": "'Alex' is not in list",
     "output_type": "error",
     "traceback": [
      "\u001b[31m---------------------------------------------------------------------------\u001b[39m",
      "\u001b[31mValueError\u001b[39m                                Traceback (most recent call last)",
      "\u001b[36mCell\u001b[39m\u001b[36m \u001b[39m\u001b[32mIn[13]\u001b[39m\u001b[32m, line 1\u001b[39m\n\u001b[32m----> \u001b[39m\u001b[32m1\u001b[39m \u001b[43mlist_names\u001b[49m\u001b[43m.\u001b[49m\u001b[43mindex\u001b[49m\u001b[43m(\u001b[49m\u001b[33;43m\"\u001b[39;49m\u001b[33;43mAlex\u001b[39;49m\u001b[33;43m\"\u001b[39;49m\u001b[43m)\u001b[49m\n",
      "\u001b[31mValueError\u001b[39m: 'Alex' is not in list"
     ]
    }
   ],
   "source": [
    "list_names.index(\"Alex\")"
   ]
  },
  {
   "cell_type": "markdown",
   "metadata": {},
   "source": [
    "<font color=\"#0056D2\" >**Using Dictionaries to Save and Retrieve Data in Python**</font> "
   ]
  },
  {
   "cell_type": "code",
   "execution_count": null,
   "metadata": {},
   "outputs": [
    {
     "data": {
      "text/plain": [
       "'Unkown'"
      ]
     },
     "execution_count": 14,
     "metadata": {},
     "output_type": "execute_result"
    }
   ],
   "source": [
    "contacts = {\"name\": \"Alfredo\", \"lastname\": \"Deza\"}\n",
    "contacts.get(\"phone\",\"Unkown\")\n"
   ]
  },
  {
   "cell_type": "code",
   "execution_count": 40,
   "metadata": {},
   "outputs": [
    {
     "name": "stdout",
     "output_type": "stream",
     "text": [
      "Peter\n"
     ]
    }
   ],
   "source": [
    "try:\n",
    "  contacts['John']\n",
    "except KeyError:\n",
    "  print(\"Peter\")"
   ]
  },
  {
   "cell_type": "code",
   "execution_count": 16,
   "metadata": {},
   "outputs": [
    {
     "data": {
      "text/plain": [
       "(dict_keys(['name', 'lastname']), dict_values(['Alfredo', 'Deza']))"
      ]
     },
     "execution_count": 16,
     "metadata": {},
     "output_type": "execute_result"
    }
   ],
   "source": [
    "contacts.keys(), contacts.values()"
   ]
  },
  {
   "cell_type": "code",
   "execution_count": 17,
   "metadata": {},
   "outputs": [
    {
     "name": "stdout",
     "output_type": "stream",
     "text": [
      "{'name': 'Alfredo', 'lastname': 'Deza', 'phone': '678-600-1111'}\n"
     ]
    }
   ],
   "source": [
    "contacts[\"phone\"]= \"678-600-1111\"\n",
    "print(contacts)"
   ]
  },
  {
   "cell_type": "markdown",
   "metadata": {},
   "source": [
    "<font color=\"#0056D2\" >**Overview of Less Common Data Structures in Python**</font> "
   ]
  },
  {
   "cell_type": "code",
   "execution_count": 24,
   "metadata": {},
   "outputs": [
    {
     "name": "stdout",
     "output_type": "stream",
     "text": [
      "{4} 1\n"
     ]
    }
   ],
   "source": [
    "unique = set()\n",
    "unique.add(4)\n",
    "unique.add(1)\n",
    "s = unique.pop()\n",
    "print(unique, s)"
   ]
  },
  {
   "cell_type": "markdown",
   "metadata": {},
   "source": [
    "<font color=\"#0056D2\" >**Overview of Less Common Data Structures in Python**</font> "
   ]
  },
  {
   "cell_type": "code",
   "execution_count": 27,
   "metadata": {},
   "outputs": [
    {
     "name": "stdout",
     "output_type": "stream",
     "text": [
      "Alfredo alfredo@example.org\n",
      "Kennedy kennedy@example.org\n",
      "Noah noah@example.org\n"
     ]
    }
   ],
   "source": [
    "contacts = {\"Alfredo\": \"alfredo@example.org\", \"Kennedy\": \"kennedy@example.org\", \"Noah\": \"noah@example.org\"}\n",
    "for name, email in contacts. items():\n",
    "    print(name, email)\n"
   ]
  },
  {
   "cell_type": "markdown",
   "metadata": {},
   "source": [
    "<font color=\"#0056D2\" >**Storing Data Between Data Structures in Python**</font> \n",
    "\n"
   ]
  },
  {
   "cell_type": "code",
   "execution_count": 32,
   "metadata": {},
   "outputs": [
    {
     "name": "stdout",
     "output_type": "stream",
     "text": [
      "{'files': ['/workspaces/Scripting-with-Python-and-SQL-for-Data-Engineering/README.md', '/workspaces/Scripting-with-Python-and-SQL-for-Data-Engineering/LICENSE'], 'directories': ['/workspaces/Scripting-with-Python-and-SQL-for-Data-Engineering/week1', '/workspaces/Scripting-with-Python-and-SQL-for-Data-Engineering/.git']}\n"
     ]
    }
   ],
   "source": [
    "home_items = os.listdir('/workspaces/Scripting-with-Python-and-SQL-for-Data-Engineering/')\n",
    "home_content = {\"files\":[],\"directories\":[]}\n",
    "\n",
    "home_paths = [os.path.join('/workspaces/Scripting-with-Python-and-SQL-for-Data-Engineering/',item) for item in home_items]\n",
    "\n",
    "for path in home_paths:\n",
    "    if os.path.isdir(path):\n",
    "        home_content['directories'].append(path)\n",
    "    if os.path.isfile(path):\n",
    "        home_content['files'].append(path)\n",
    "\n",
    "print(home_content)"
   ]
  },
  {
   "cell_type": "code",
   "execution_count": 34,
   "metadata": {},
   "outputs": [
    {
     "name": "stdout",
     "output_type": "stream",
     "text": [
      "/workspaces/Scripting-with-Python-and-SQL-for-Data-Engineering/README.md\n",
      "/workspaces/Scripting-with-Python-and-SQL-for-Data-Engineering/LICENSE\n"
     ]
    }
   ],
   "source": [
    "for item in home_content['files']:\n",
    "    print(item)"
   ]
  },
  {
   "cell_type": "markdown",
   "metadata": {},
   "source": [
    "<font color=\"#0056D2\" >**Walking the filesystem, inspecting files**</font> \n",
    "\n",
    "\n"
   ]
  },
  {
   "cell_type": "code",
   "execution_count": 44,
   "metadata": {},
   "outputs": [
    {
     "name": "stdout",
     "output_type": "stream",
     "text": [
      "('..', ['week1', '.git'], ['README.md', 'LICENSE'])\n"
     ]
    }
   ],
   "source": [
    "import os\n",
    "\n",
    "# yields the 'current' dir, then the directories, and then any files it finds\n",
    "# for each level it traverses\n",
    "for path_info in os.walk('..'):\n",
    "    print(path_info)\n",
    "    break\n",
    "    "
   ]
  },
  {
   "cell_type": "code",
   "execution_count": 47,
   "metadata": {},
   "outputs": [
    {
     "name": "stdout",
     "output_type": "stream",
     "text": [
      "/workspaces/Scripting-with-Python-and-SQL-for-Data-Engineering/week1\n",
      "/workspaces/Scripting-with-Python-and-SQL-for-Data-Engineering/.git\n",
      "\n",
      "\n",
      "/workspaces/Scripting-with-Python-and-SQL-for-Data-Engineering/README.md\n",
      "/workspaces/Scripting-with-Python-and-SQL-for-Data-Engineering/LICENSE\n"
     ]
    }
   ],
   "source": [
    "import os\n",
    "from os.path import abspath, join\n",
    "\n",
    "\n",
    "# producing absolute paths, instead of a tuple of three items\n",
    "for top_dir, directories, files in os.walk('..'):\n",
    "    for directory in directories:\n",
    "        print(abspath(join(top_dir, directory)))\n",
    "    print(\"\\n\")\n",
    "    for _file in files:\n",
    "        print(abspath(join(top_dir, _file)))\n",
    "    break"
   ]
  },
  {
   "cell_type": "code",
   "execution_count": 49,
   "metadata": {},
   "outputs": [
    {
     "name": "stdout",
     "output_type": "stream",
     "text": [
      "Path: /workspaces/Scripting-with-Python-and-SQL-for-Data-Engineering/LICENSE, size: 35149\n",
      "Path: /workspaces/Scripting-with-Python-and-SQL-for-Data-Engineering/.git/objects/pack/pack-d85bdce49633cef446c881a006743750d3371cfb.pack, size: 14347\n",
      "Path: /workspaces/Scripting-with-Python-and-SQL-for-Data-Engineering/week1/notes_week1.ipynb, size: 11559\n",
      "Path: /workspaces/Scripting-with-Python-and-SQL-for-Data-Engineering/.git/hooks/pre-rebase.sample, size: 4898\n",
      "Path: /workspaces/Scripting-with-Python-and-SQL-for-Data-Engineering/.git/hooks/fsmonitor-watchman.sample, size: 4726\n",
      "Path: /workspaces/Scripting-with-Python-and-SQL-for-Data-Engineering/.git/hooks/update.sample, size: 3650\n",
      "Path: /workspaces/Scripting-with-Python-and-SQL-for-Data-Engineering/README.md, size: 3501\n",
      "Path: /workspaces/Scripting-with-Python-and-SQL-for-Data-Engineering/.git/hooks/push-to-checkout.sample, size: 2783\n",
      "Path: /workspaces/Scripting-with-Python-and-SQL-for-Data-Engineering/.git/hooks/sendemail-validate.sample, size: 2308\n",
      "Path: /workspaces/Scripting-with-Python-and-SQL-for-Data-Engineering/.git/hooks/pre-commit.sample, size: 1649\n"
     ]
    }
   ],
   "source": [
    "# Now that absolute paths are shown, we can inspect them for file metadata\n",
    "\n",
    "import os\n",
    "from os.path import abspath, join, getsize\n",
    "\n",
    "sizes = {}\n",
    "\n",
    "for top_dir, directories, files in os.walk('..'):\n",
    "    for _file in files:\n",
    "        full_path = abspath(join(top_dir, _file))\n",
    "        size = getsize(full_path)\n",
    "        sizes[full_path] = size\n",
    "        #break\n",
    "\n",
    "sorted_results = sorted(sizes, key=sizes.get, reverse=True)\n",
    "\n",
    "\n",
    "for path in sorted_results[:10]:\n",
    "    print(\"Path: {0}, size: {1}\".format(path, sizes[path]))"
   ]
  },
  {
   "cell_type": "markdown",
   "metadata": {},
   "source": [
    "## <font color=\"#0056D2\" >**Introduction to Data Sources and Formats in Python**</font> "
   ]
  },
  {
   "cell_type": "markdown",
   "metadata": {},
   "source": [
    "<font color=\"#0056D2\" >**Loading Data from Files and File Paths in Python**</font> "
   ]
  },
  {
   "cell_type": "markdown",
   "metadata": {},
   "source": []
  }
 ],
 "metadata": {
  "kernelspec": {
   "display_name": "Python 3",
   "language": "python",
   "name": "python3"
  },
  "language_info": {
   "codemirror_mode": {
    "name": "ipython",
    "version": 3
   },
   "file_extension": ".py",
   "mimetype": "text/x-python",
   "name": "python",
   "nbconvert_exporter": "python",
   "pygments_lexer": "ipython3",
   "version": "3.12.1"
  }
 },
 "nbformat": 4,
 "nbformat_minor": 2
}
