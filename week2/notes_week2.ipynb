{
 "cells": [
  {
   "cell_type": "markdown",
   "metadata": {},
   "source": [
    "<hr>\n",
    "<div style=\"background-color: lightgray; padding: 20px; color: black;\">\n",
    "<div>\n",
    "<img src=\"https://upload.wikimedia.org/wikipedia/commons/thumb/9/97/Coursera-Logo_600x600.svg/1024px-Coursera-Logo_600x600.svg.png\" style=\"float: right; margin-right: 30px;\" width=\"120\"/> \n",
    "<font size=\"6.5\" color=\"#0056D2\"><b>Python Scripting and SQL</b></font> <br>\n",
    "<font size=\"5.5\" color=\"#0056D2\"><b>Working with Data in Python </b></font> \n",
    "</div>\n",
    "<div style=\"text-align: left\">  <br>\n",
    "Edison David Serrano Cárdenas. <br>\n",
    "MSc in Applied Mathematics <br>\n",
    "CIMAT - Sede Guanajuato <br>\n",
    "</div>\n",
    "\n",
    "</div>\n",
    "<hr>"
   ]
  },
  {
   "cell_type": "markdown",
   "metadata": {},
   "source": [
    "##  <font color=\"#0056D2\" >**Objetives**</font> \n",
    "In this module, you will learn how to use Python scripting techniques to work with SQL. You will create a database, store data, and query that data with SQL from Python."
   ]
  },
  {
   "cell_type": "markdown",
   "metadata": {},
   "source": [
    "*Load Libraries:*"
   ]
  },
  {
   "cell_type": "code",
   "execution_count": 1,
   "metadata": {},
   "outputs": [],
   "source": [
    "from faker import Faker\n",
    "import sqlite3"
   ]
  },
  {
   "cell_type": "markdown",
   "metadata": {},
   "source": [
    "## <font color=\"#0056D2\" >**Python Scripting Basics**</font> \n"
   ]
  },
  {
   "cell_type": "markdown",
   "metadata": {},
   "source": [
    "<font color=\"#0056D2\" >**Creating a Script as a Module in Python**</font> \n"
   ]
  },
  {
   "cell_type": "markdown",
   "metadata": {},
   "source": [
    "file: `.example1/main.py`\n",
    "\n",
    "```python\n",
    "print(f\"The name of this module is: {_name_}\")\n",
    "# output:\n",
    "# The name of this module is: __main__\n",
    "```"
   ]
  },
  {
   "cell_type": "markdown",
   "metadata": {},
   "source": [
    "file: `.example1/other.py`\n",
    "\n",
    "```python\n",
    "import main\n",
    "print(f\"The name of this module is: {_name_}\")\n",
    "# output:\n",
    "# The name of this module is: main\n",
    "# The name of this module is: __main__\n",
    "```"
   ]
  },
  {
   "cell_type": "markdown",
   "metadata": {},
   "source": [
    "file: `.example1/main2.py`\n",
    "\n",
    "```python\n",
    "def principal():\n",
    "    print(f\"The name of this module is: {__name__}\")\n",
    "\n",
    "\n",
    "if __name__ == '__main__':\n",
    "    principal()\n",
    "```"
   ]
  },
  {
   "cell_type": "markdown",
   "metadata": {},
   "source": [
    "<font color=\"#0056D2\" >**Traversing the File System with a Script in Python**</font> \n",
    "\n",
    "\n"
   ]
  },
  {
   "cell_type": "markdown",
   "metadata": {},
   "source": [
    "file: `.example2/main.py` Iterate over all files\n",
    "\n",
    "```python\n",
    "import os\n",
    "\n",
    "def main():\n",
    "    for root, directories, files in os.walk(\"/workspaces/Scripting-with-Python-and-SQL-for-Data-Engineering/\"):\n",
    "        #print (f\"Root: {root}\")\n",
    "        #print(f\"Directories {directories}\")\n",
    "        #print(f\"files {files}\")\n",
    "        for _file in files:\n",
    "            absolute_path = os.path.join(root,_file)\n",
    "            print(f\"File path: {absolute_path}\")\n",
    "\n",
    "\n",
    "if __name__ == '__main__':\n",
    "    main()\n",
    "```"
   ]
  },
  {
   "cell_type": "markdown",
   "metadata": {},
   "source": [
    "file: `.example2/main1.py` Iterate over all the directories:\n",
    "\n",
    "```python\n",
    "import os\n",
    "\n",
    "def main():\n",
    "    for root, directories, files in os.walk(\"/workspaces/Scripting-with-Python-and-SQL-for-Data-Engineering/\"):\n",
    "        for dir in directories:\n",
    "            absolute_path = os.path.join(root,dir)\n",
    "            print(f\"File path: {absolute_path}\")\n",
    "\n",
    "\n",
    "if __name__ == '__main__':\n",
    "    main()\n",
    "```"
   ]
  },
  {
   "cell_type": "markdown",
   "metadata": {},
   "source": [
    "## <font color=\"#0056D2\" >**SQLite and Python**</font> \n"
   ]
  },
  {
   "cell_type": "markdown",
   "metadata": {},
   "source": [
    "<font color=\"#0056D2\" >**Key Terms**</font> \n"
   ]
  },
  {
   "cell_type": "markdown",
   "metadata": {},
   "source": [
    "- SQLite        - Embedded, serverless SQL database\n",
    "- Table         - Collection of related data in columns and rows\n",
    "- Query         - SQL statement to insert, retrieve, update, or delete data\n",
    "- Commit        - Make changes permanent in a database transaction\n",
    "- Cursor        - Object to execute queries and fetch results\n",
    "- Primary key   - Unique identifier for a row in a table\n",
    "- Generate      - Produce sample data programmatically\n",
    "- Persist       - Save data so it exists after program execution"
   ]
  },
  {
   "cell_type": "markdown",
   "metadata": {},
   "source": [
    "### <font color=\"#0056D2\" >**Introduction to Embedded Databases**</font> \n"
   ]
  },
  {
   "cell_type": "markdown",
   "metadata": {},
   "source": [
    "<font color=\"#0056D2\" >**What is SQLite?**</font> \n",
    "\n",
    "First off a SQLite database is represented by a file. \n",
    "\n",
    "You will see an actual file in the file system and this is a big difference because if you're dealing with a bigger database like say PostgreSQL, you won't find a single file in that database. \n",
    "\n",
    "Next is that there's no client-server communication. That is, when you're working with say PostgreSQL or MySQL you have a database server, and then you're connecting to it via a client and the connection usually happens over the network also called over the wire. \n",
    "\n",
    "There is no server, there's no process running, you connect to a SQLite database directly without any configuration which is the other feature that an embedded database like SQLite has.\n"
   ]
  },
  {
   "cell_type": "markdown",
   "metadata": {},
   "source": [
    "### <font color=\"#0056D2\" >**Creating and Connecting to a SQLite Database in Python**</font> "
   ]
  },
  {
   "cell_type": "markdown",
   "metadata": {},
   "source": [
    "Create a database, a table in the database and create a commit.\n",
    "\n",
    "file: `./python_scripts/create.py`\n",
    "\n",
    "```python\n",
    "# import SQLite\n",
    "import sqlite3\n",
    "\n",
    "# The next thing that you want to do is create a connection. \n",
    "# I'm just going to name it sample.db\n",
    "connection = sqlite3.connect('sample.db')\n",
    "\n",
    "# I want to create a table\n",
    "table = 'CREATE TABLE people (id integer primary key, name TEXT,surname TEXT)'\n",
    "cursor = connection.cursor()\n",
    "cursor.execute(table)\n",
    "connection.commit()\n",
    "```"
   ]
  },
  {
   "cell_type": "markdown",
   "metadata": {},
   "source": [
    "bash: `console`\n",
    "> ``` bash\n",
    "> [cloudshell-user@... ]$  sqlite3 sample.db \n",
    ">   SQLite version 3.45.1 2024-01-30 16:01:20\n",
    ">   Enter \".help\" for usage hints.\n",
    ">   sqlite>  ...\n",
    "> ```"
   ]
  },
  {
   "cell_type": "markdown",
   "metadata": {},
   "source": [
    "### <font color=\"#0056D2\" >**Saving and Querying from a SQLite Database in Python**</font> "
   ]
  },
  {
   "cell_type": "markdown",
   "metadata": {},
   "source": [
    "*Generate data:* Use Faker. It is a Python package that generates fake data for you."
   ]
  },
  {
   "cell_type": "code",
   "execution_count": 2,
   "metadata": {},
   "outputs": [
    {
     "data": {
      "text/plain": [
       "[['Nancy', 'Moreno'],\n",
       " ['Louis', 'Aguilar'],\n",
       " ['Darrell', 'Bryant'],\n",
       " ['Michael', 'Bird'],\n",
       " ['Carolyn', 'Alvarez']]"
      ]
     },
     "execution_count": 2,
     "metadata": {},
     "output_type": "execute_result"
    }
   ],
   "source": [
    "fake = Faker()\n",
    "\n",
    "# Generate a list of 100 names\n",
    "names = [fake.name().split() for _ in range(100)]\n",
    "# Filter names to keep only those with exactly two parts\n",
    "names = [name for name in names if len(name) == 2]\n",
    "names[:5]"
   ]
  },
  {
   "cell_type": "code",
   "execution_count": 3,
   "metadata": {},
   "outputs": [],
   "source": [
    "connection = sqlite3.connect('./data/sample.db')"
   ]
  },
  {
   "cell_type": "markdown",
   "metadata": {},
   "source": [
    "*Insert Query:*"
   ]
  },
  {
   "cell_type": "code",
   "execution_count": 4,
   "metadata": {},
   "outputs": [],
   "source": [
    "insert_query = 'INSERT INTO people(name, surname) VALUES (?, ?)'\n",
    "cursor = connection.cursor()\n",
    "for name in names:\n",
    "    cursor.execute(insert_query, name)\n",
    "connection.commit()"
   ]
  },
  {
   "cell_type": "markdown",
   "metadata": {},
   "source": [
    "*Create a select query:*"
   ]
  },
  {
   "cell_type": "code",
   "execution_count": 5,
   "metadata": {},
   "outputs": [
    {
     "name": "stdout",
     "output_type": "stream",
     "text": [
      "(1, 'David', 'Brown')\n",
      "(2, 'Joseph', 'Ferguson')\n",
      "(3, 'Amy', 'Greene')\n",
      "(4, 'Matthew', 'Mitchell')\n",
      "(5, 'Stephanie', 'Wood')\n",
      "(6, 'Jose', 'Marshall')\n",
      "(7, 'Vicki', 'Hodges')\n",
      "(8, 'Tammy', 'Kelly')\n",
      "(9, 'Kevin', 'Scott')\n",
      "(10, 'Troy', 'Conley')\n"
     ]
    }
   ],
   "source": [
    "select_query = 'SELECT * FROM people LIMIT 10'\n",
    "for i in cursor.execute(select_query):\n",
    "    print(i)\n",
    "\n",
    "# Close the connection\n",
    "connection.close()"
   ]
  },
  {
   "cell_type": "markdown",
   "metadata": {},
   "source": [
    "> ```bash\n",
    "> [cloudshell-user@... ]$ sqlite3 sample.db \n",
    ">       SQLite version 3.45.1 2024-01-30 16:01:20\n",
    ">       Enter \".help\" for usage hints.\n",
    ">       sqlite> SELECT * from people LIMIT 10;\n",
    ">       1|Sandra|Roberts\n",
    ">       2|Kathryn|Thomas\n",
    ">       3|John|Solomon\n",
    ">       4|Jennifer|Smith\n",
    ">       5|Cole|Ashley\n",
    ">       6|Ethan|Edwards\n",
    ">       7|Andrew|Barker\n",
    ">       8|Joanna|Silva\n",
    ">       9|Sandra|Rosales\n",
    ">       10|John|Bell\n",
    ">       sqlite> \n",
    "> ```"
   ]
  },
  {
   "cell_type": "markdown",
   "metadata": {},
   "source": [
    "### <font color=\"#0056D2\" >**Saving and Querying from a SQLite Database in Python**</font> "
   ]
  },
  {
   "cell_type": "markdown",
   "metadata": {},
   "source": [
    "For the SQL examples, try them in your system by running sqlite3 in your own terminal. You must feel comfortable running or using the terminal in your system."
   ]
  },
  {
   "cell_type": "markdown",
   "metadata": {},
   "source": [
    "<font color=\"#0056D2\" >**Basic SELECT query**</font>\n",
    " \n",
    "```sql\n",
    "-- Create sample table\n",
    "CREATE TABLE users (\n",
    "  id INTEGER PRIMARY KEY, \n",
    "  name TEXT,\n",
    "  email TEXT\n",
    ");\n",
    "\n",
    "-- Insert some data\n",
    "INSERT INTO users VALUES \n",
    "  (1, 'John', 'john@email.com'),\n",
    "  (2, 'Mary', 'mary@email.com'), \n",
    "  (3, 'Robert', 'robert@email.com'),\n",
    "  (4, 'Laura', 'laura@email.com');\n",
    "\n",
    "-- Basic select query\n",
    "SELECT name, email\n",
    "FROM users;\n",
    "```\n"
   ]
  },
  {
   "cell_type": "markdown",
   "metadata": {},
   "source": [
    "<font color=\"#0056D2\" >**Filter with WHERE clause**</font>\n",
    " \n",
    "```sql\n",
    "-- Create sample table\n",
    "CREATE TABLE users (\n",
    "  id INTEGER PRIMARY KEY, \n",
    "  name TEXT,\n",
    "  email TEXT\n",
    ");\n",
    "\n",
    "-- Insert some data\n",
    "INSERT INTO users VALUES \n",
    "  (1, 'John', 'john@email.com'),\n",
    "  (2, 'Mary', 'mary@email.com'), \n",
    "  (3, 'Robert', 'robert@email.com'),\n",
    "  (4, 'Laura', 'laura@email.com');\n",
    "\n",
    "-- Filter with WHERE clause  \n",
    "SELECT *\n",
    "FROM users\n",
    "WHERE name LIKE 'R%';\n",
    "```\n"
   ]
  },
  {
   "cell_type": "markdown",
   "metadata": {},
   "source": [
    "<font color=\"#0056D2\" >**Processing data from the database in Python**</font>\n",
    " \n",
    "```python\n",
    "-results = cursor.execute('SELECT * FROM users')\n",
    "\n",
    "for row in results:\n",
    "  first_name = row[0] \n",
    "  last_name = row[1]\n",
    "  print(f\"{first_name} {last_name}\")\n",
    "```\n"
   ]
  },
  {
   "cell_type": "markdown",
   "metadata": {},
   "source": [
    "## <font color=\"#0056D2\" >**Querying Databases with SQL**</font> "
   ]
  },
  {
   "cell_type": "markdown",
   "metadata": {},
   "source": [
    "<font color=\"#0056D2\" >**Basic SQL Commands in Python**</font> "
   ]
  },
  {
   "cell_type": "markdown",
   "metadata": {},
   "source": [
    "***SELECT COMMAND:***"
   ]
  },
  {
   "cell_type": "code",
   "execution_count": null,
   "metadata": {},
   "outputs": [],
   "source": [
    "connection = sqlite3.connect('./data/sample.db')\n",
    "cursor = connection.cursor()"
   ]
  },
  {
   "cell_type": "code",
   "execution_count": 7,
   "metadata": {},
   "outputs": [
    {
     "name": "stdout",
     "output_type": "stream",
     "text": [
      "(1, 'David', 'Brown')\n",
      "(2, 'Joseph', 'Ferguson')\n",
      "(3, 'Amy', 'Greene')\n",
      "(4, 'Matthew', 'Mitchell')\n",
      "(5, 'Stephanie', 'Wood')\n",
      "(6, 'Jose', 'Marshall')\n",
      "(7, 'Vicki', 'Hodges')\n",
      "(8, 'Tammy', 'Kelly')\n",
      "(9, 'Kevin', 'Scott')\n",
      "(10, 'Troy', 'Conley')\n",
      "(11, 'Lisa', 'Jones')\n",
      "(12, 'Beth', 'Gray')\n",
      "(13, 'Rick', 'Jones')\n",
      "(14, 'Robert', 'Coleman')\n",
      "(15, 'Eric', 'Roberts')\n",
      "(16, 'Brittany', 'Stevens')\n",
      "(17, 'Bonnie', 'Montgomery')\n",
      "(18, 'Jonathan', 'Walsh')\n",
      "(19, 'Kari', 'Browning')\n",
      "(20, 'Melissa', 'Reeves')\n",
      "(21, 'Brandon', 'Torres')\n",
      "(22, 'Christine', 'Bishop')\n",
      "(23, 'Brittney', 'Martinez')\n",
      "(24, 'Christine', 'Parks')\n",
      "(25, 'Caitlin', 'Taylor')\n",
      "(26, 'Bradley', 'Williams')\n",
      "(27, 'Don', 'Nelson')\n",
      "(28, 'Teresa', 'Henderson')\n",
      "(29, 'Vicki', 'Powell')\n",
      "(30, 'Richard', 'Vargas')\n",
      "(31, 'Gregory', 'Bryan')\n",
      "(32, 'John', 'Butler')\n",
      "(33, 'David', 'Newton')\n",
      "(34, 'Michael', 'Riddle')\n",
      "(35, 'Nathan', 'Cruz')\n",
      "(36, 'Ronnie', 'Sanchez')\n",
      "(37, 'Shannon', 'Bradley')\n",
      "(38, 'Makayla', 'Bates')\n",
      "(39, 'Marcus', 'Wong')\n",
      "(40, 'Evelyn', 'Martinez')\n",
      "(41, 'Wendy', 'Holloway')\n",
      "(42, 'Justin', 'Kim')\n",
      "(43, 'Stephanie', 'Benson')\n",
      "(44, 'Linda', 'White')\n",
      "(45, 'Matthew', 'Kaiser')\n",
      "(46, 'Chloe', 'Davis')\n",
      "(47, 'Tracy', 'Brown')\n",
      "(48, 'Michael', 'Bradley')\n",
      "(49, 'Jake', 'Johnson')\n",
      "(50, 'Cindy', 'Brennan')\n",
      "(51, 'Dan', 'Brown')\n",
      "(52, 'Patricia', 'Nguyen')\n",
      "(53, 'Michael', 'Knight')\n",
      "(54, 'Ronald', 'Cannon')\n",
      "(55, 'Joseph', 'Graham')\n",
      "(56, 'Karl', 'Perkins')\n",
      "(57, 'Sarah', 'Black')\n",
      "(58, 'Nancy', 'Mills')\n",
      "(59, 'Lindsay', 'Cain')\n",
      "(60, 'Matthew', 'Levy')\n",
      "(61, 'William', 'Montgomery')\n",
      "(62, 'Shannon', 'Evans')\n",
      "(63, 'Toni', 'Beck')\n",
      "(64, 'Debra', 'Barajas')\n",
      "(65, 'Wyatt', 'Moon')\n",
      "(66, 'Kelly', 'Christensen')\n",
      "(67, 'George', 'Thomas')\n",
      "(68, 'Joseph', 'Dennis')\n",
      "(69, 'Jeremiah', 'Davidson')\n",
      "(70, 'Mark', 'Taylor')\n",
      "(71, 'Sharon', 'Ramirez')\n",
      "(72, 'Brenda', 'Deleon')\n",
      "(73, 'Susan', 'Rodriguez')\n",
      "(74, 'Barbara', 'Garcia')\n",
      "(75, 'Hannah', 'Flores')\n",
      "(76, 'Anthony', 'Russo')\n",
      "(77, 'Jasmine', 'Hunt')\n",
      "(78, 'Matthew', 'Thomas')\n",
      "(79, 'Bradley', 'Clarke')\n",
      "(80, 'Janet', 'Dominguez')\n",
      "(81, 'Darryl', 'Brown')\n",
      "(82, 'Jesse', 'Wong')\n",
      "(83, 'Heather', 'Lewis')\n",
      "(84, 'Jessica', 'Carr')\n",
      "(85, 'Gregory', 'Medina')\n",
      "(86, 'Miguel', 'Rivas')\n",
      "(87, 'Felicia', 'Moreno')\n",
      "(88, 'Kathy', 'Smith')\n",
      "(89, 'Kimberly', 'Cantu')\n",
      "(90, 'David', 'Farmer')\n",
      "(91, 'Diana', 'Kerr')\n",
      "(92, 'Alicia', 'Flynn')\n",
      "(93, 'Lisa', 'Kane')\n",
      "(94, 'Darren', 'Campbell')\n",
      "(95, 'Michael', 'Arnold')\n",
      "(96, 'Natasha', 'Campbell')\n",
      "(97, 'Nancy', 'Moreno')\n",
      "(98, 'Louis', 'Aguilar')\n",
      "(99, 'Darrell', 'Bryant')\n",
      "(100, 'Michael', 'Bird')\n",
      "(101, 'Carolyn', 'Alvarez')\n",
      "(102, 'Megan', 'Watkins')\n",
      "(103, 'Donna', 'Young')\n",
      "(104, 'Jerome', 'Clements')\n",
      "(105, 'Edward', 'Brown')\n",
      "(106, 'Jack', 'Owen')\n",
      "(107, 'Sean', 'Kemp')\n",
      "(108, 'Lynn', 'Velasquez')\n",
      "(109, 'Louis', 'Williams')\n",
      "(110, 'Garrett', 'Parsons')\n",
      "(111, 'Rebecca', 'Young')\n",
      "(112, 'Amy', 'Simmons')\n",
      "(113, 'Angela', 'Woods')\n",
      "(114, 'Thomas', 'Johnson')\n",
      "(115, 'Carol', 'Jones')\n",
      "(116, 'Madison', 'Gutierrez')\n",
      "(117, 'Colin', 'Thomas')\n",
      "(118, 'Elizabeth', 'Contreras')\n",
      "(119, 'Andrea', 'Oconnor')\n",
      "(120, 'Karen', 'Baker')\n",
      "(121, 'Daniel', 'Robinson')\n",
      "(122, 'Blake', 'Day')\n",
      "(123, 'Christopher', 'Kennedy')\n",
      "(124, 'Jonathan', 'Lynch')\n",
      "(125, 'Linda', 'Warren')\n",
      "(126, 'Samantha', 'Lewis')\n",
      "(127, 'Larry', 'Fowler')\n",
      "(128, 'Thomas', 'Gallegos')\n",
      "(129, 'Jasmine', 'Kelly')\n",
      "(130, 'Christopher', 'Edwards')\n",
      "(131, 'Marvin', 'Mcdonald')\n",
      "(132, 'Emily', 'Galvan')\n",
      "(133, 'Kimberly', 'Salazar')\n",
      "(134, 'Nicholas', 'Garcia')\n",
      "(135, 'Jamie', 'George')\n",
      "(136, 'Kimberly', 'Maldonado')\n",
      "(137, 'Christopher', 'Cameron')\n",
      "(138, 'Michael', 'Hudson')\n",
      "(139, 'Cody', 'Davis')\n",
      "(140, 'Robert', 'Fisher')\n",
      "(141, 'Justin', 'Elliott')\n",
      "(142, 'Lisa', 'Smith')\n",
      "(143, 'Willie', 'Flynn')\n",
      "(144, 'Leslie', 'Richardson')\n",
      "(145, 'Samuel', 'Wilson')\n",
      "(146, 'Ross', 'Scott')\n",
      "(147, 'John', 'Stanley')\n",
      "(148, 'Patricia', 'Phillips')\n",
      "(149, 'Chad', 'Young')\n",
      "(150, 'Antonio', 'Schroeder')\n",
      "(151, 'Laura', 'Gomez')\n",
      "(152, 'Kathryn', 'Hays')\n",
      "(153, 'Laura', 'Schultz')\n",
      "(154, 'Rita', 'Morgan')\n",
      "(155, 'Dennis', 'Wheeler')\n",
      "(156, 'Jasmine', 'Gray')\n",
      "(157, 'April', 'Holmes')\n",
      "(158, 'Troy', 'Hardy')\n",
      "(159, 'Todd', 'Williams')\n",
      "(160, 'Jessica', 'Kline')\n",
      "(161, 'Bryan', 'Bryant')\n",
      "(162, 'Sarah', 'Rose')\n",
      "(163, 'Megan', 'Griffith')\n",
      "(164, 'Sherry', 'Tate')\n",
      "(165, 'Kenneth', 'Sims')\n",
      "(166, 'Michael', 'Barnes')\n",
      "(167, 'Stacey', 'Barron')\n",
      "(168, 'Pamela', 'Watkins')\n",
      "(169, 'Michele', 'Price')\n",
      "(170, 'Amy', 'Pearson')\n",
      "(171, 'Ann', 'Simmons')\n",
      "(172, 'Henry', 'Mitchell')\n",
      "(173, 'Bianca', 'Jordan')\n",
      "(174, 'Zachary', 'Martinez')\n",
      "(175, 'Allison', 'Sanchez')\n",
      "(176, 'Daniel', 'Garcia')\n",
      "(177, 'Brett', 'Mitchell')\n",
      "(178, 'Katie', 'George')\n",
      "(179, 'Sarah', 'Faulkner')\n",
      "(180, 'Justin', 'Deleon')\n",
      "(181, 'Victoria', 'Wu')\n",
      "(182, 'Patrick', 'Kelly')\n",
      "(183, 'Virginia', 'Stafford')\n",
      "(184, 'Jacob', 'Grimes')\n",
      "(185, 'Eric', 'Herring')\n",
      "(186, 'Michelle', 'Giles')\n",
      "(187, 'Brenda', 'Hernandez')\n",
      "(188, 'Renee', 'Mcpherson')\n",
      "(189, 'Briana', 'Allen')\n",
      "(190, 'Jordan', 'Porter')\n",
      "(191, 'Michelle', 'Carlson')\n",
      "(192, 'Joshua', 'Hansen')\n"
     ]
    }
   ],
   "source": [
    "query = 'SELECT * FROM people'\n",
    "for result in cursor.execute(query):\n",
    "    print(result)"
   ]
  },
  {
   "cell_type": "code",
   "execution_count": 8,
   "metadata": {},
   "outputs": [
    {
     "name": "stdout",
     "output_type": "stream",
     "text": [
      "(1, 'David', 'Brown')\n",
      "(2, 'Joseph', 'Ferguson')\n",
      "(3, 'Amy', 'Greene')\n",
      "(4, 'Matthew', 'Mitchell')\n",
      "(5, 'Stephanie', 'Wood')\n",
      "(6, 'Jose', 'Marshall')\n",
      "(7, 'Vicki', 'Hodges')\n",
      "(8, 'Tammy', 'Kelly')\n",
      "(9, 'Kevin', 'Scott')\n",
      "(10, 'Troy', 'Conley')\n",
      "(11, 'Lisa', 'Jones')\n"
     ]
    }
   ],
   "source": [
    "query = 'SELECT * FROM people'\n",
    "count = 0\n",
    "for result in cursor.execute(query):\n",
    "    print(result)\n",
    "    count+= 1\n",
    "    if count > 10:\n",
    "        break"
   ]
  },
  {
   "cell_type": "code",
   "execution_count": 10,
   "metadata": {},
   "outputs": [
    {
     "name": "stdout",
     "output_type": "stream",
     "text": [
      "(1, 'David', 'Brown')\n",
      "(2, 'Joseph', 'Ferguson')\n",
      "(3, 'Amy', 'Greene')\n",
      "(4, 'Matthew', 'Mitchell')\n",
      "(5, 'Stephanie', 'Wood')\n",
      "(6, 'Jose', 'Marshall')\n",
      "(7, 'Vicki', 'Hodges')\n",
      "(8, 'Tammy', 'Kelly')\n",
      "(9, 'Kevin', 'Scott')\n",
      "(10, 'Troy', 'Conley')\n"
     ]
    }
   ],
   "source": [
    "query = 'SELECT * FROM people LIMIT 10'\n",
    "for result in cursor.execute(query):\n",
    "    print(result)"
   ]
  },
  {
   "cell_type": "code",
   "execution_count": 13,
   "metadata": {},
   "outputs": [
    {
     "name": "stdout",
     "output_type": "stream",
     "text": [
      "('Brown',)\n",
      "('Ferguson',)\n",
      "('Greene',)\n",
      "('Mitchell',)\n",
      "('Wood',)\n",
      "('Marshall',)\n",
      "('Hodges',)\n",
      "('Kelly',)\n",
      "('Scott',)\n",
      "('Conley',)\n"
     ]
    }
   ],
   "source": [
    "query = 'SELECT surname FROM people LIMIT 10'\n",
    "for result in cursor.execute(query):\n",
    "    print(result)"
   ]
  },
  {
   "cell_type": "markdown",
   "metadata": {},
   "source": [
    "<font color=\"#0056D2\" >**Extracting Distinct Data using SQL in Python**</font> "
   ]
  },
  {
   "cell_type": "markdown",
   "metadata": {},
   "source": [
    "**LIMIT COMMAND:**"
   ]
  },
  {
   "cell_type": "code",
   "execution_count": 15,
   "metadata": {},
   "outputs": [
    {
     "name": "stdout",
     "output_type": "stream",
     "text": [
      "(174, 'Zachary', 'Martinez')\n",
      "(65, 'Wyatt', 'Moon')\n",
      "(143, 'Willie', 'Flynn')\n",
      "(61, 'William', 'Montgomery')\n",
      "(41, 'Wendy', 'Holloway')\n",
      "(183, 'Virginia', 'Stafford')\n",
      "(181, 'Victoria', 'Wu')\n",
      "(7, 'Vicki', 'Hodges')\n",
      "(29, 'Vicki', 'Powell')\n",
      "(10, 'Troy', 'Conley')\n"
     ]
    }
   ],
   "source": [
    "query = 'SELECT * FROM people ORDER BY name DESC LIMIT 10'\n",
    "for result in cursor.execute(query):\n",
    "    print(result)"
   ]
  },
  {
   "cell_type": "markdown",
   "metadata": {},
   "source": [
    "***ORDER BY ... DESC COMMAND:***"
   ]
  },
  {
   "cell_type": "code",
   "execution_count": 19,
   "metadata": {},
   "outputs": [
    {
     "name": "stdout",
     "output_type": "stream",
     "text": [
      "('David', 'Newton')\n",
      "('David', 'Farmer')\n",
      "('David', 'Brown')\n"
     ]
    }
   ],
   "source": [
    "query = 'SELECT name,surname FROM people WHERE name=\"David\" ORDER BY surname DESC'\n",
    "for result in cursor.execute(query):\n",
    "    print(result)"
   ]
  },
  {
   "cell_type": "markdown",
   "metadata": {},
   "source": [
    "***WHERE __ LIKE COMMAND:***"
   ]
  },
  {
   "cell_type": "code",
   "execution_count": 21,
   "metadata": {},
   "outputs": [
    {
     "name": "stdout",
     "output_type": "stream",
     "text": [
      "('Patricia', 'Nguyen')\n",
      "('Felicia', 'Moreno')\n",
      "('Alicia', 'Flynn')\n",
      "('Patricia', 'Phillips')\n",
      "('Victoria', 'Wu')\n",
      "('Virginia', 'Stafford')\n"
     ]
    }
   ],
   "source": [
    "query = 'SELECT name, surname FROM people WHERE name LIKE \"%ia\"'\n",
    "for result in cursor.execute(query):\n",
    "    print(result)"
   ]
  },
  {
   "cell_type": "code",
   "execution_count": 22,
   "metadata": {},
   "outputs": [
    {
     "name": "stdout",
     "output_type": "stream",
     "text": [
      "('Patricia', 'Nguyen')\n",
      "('William', 'Montgomery')\n",
      "('Jeremiah', 'Davidson')\n",
      "('Felicia', 'Moreno')\n",
      "('Diana', 'Kerr')\n",
      "('Alicia', 'Flynn')\n",
      "('Patricia', 'Phillips')\n",
      "('Bianca', 'Jordan')\n",
      "('Victoria', 'Wu')\n",
      "('Virginia', 'Stafford')\n",
      "('Briana', 'Allen')\n"
     ]
    }
   ],
   "source": [
    "query = 'SELECT name, surname FROM people WHERE name LIKE \"%ia%\"'\n",
    "for result in cursor.execute(query):\n",
    "    print(result)"
   ]
  },
  {
   "cell_type": "markdown",
   "metadata": {},
   "source": []
  },
  {
   "cell_type": "code",
   "execution_count": 25,
   "metadata": {},
   "outputs": [
    {
     "name": "stdout",
     "output_type": "stream",
     "text": [
      "('Joseph', 'Ferguson')\n",
      "('Jose', 'Marshall')\n",
      "('Jonathan', 'Walsh')\n",
      "('John', 'Butler')\n",
      "('Justin', 'Kim')\n",
      "('Jake', 'Johnson')\n",
      "('Joseph', 'Graham')\n",
      "('Joseph', 'Dennis')\n",
      "('Jeremiah', 'Davidson')\n",
      "('Jasmine', 'Hunt')\n",
      "('Janet', 'Dominguez')\n",
      "('Jesse', 'Wong')\n",
      "('Jessica', 'Carr')\n",
      "('Jerome', 'Clements')\n",
      "('Jack', 'Owen')\n",
      "('Jonathan', 'Lynch')\n",
      "('Jasmine', 'Kelly')\n",
      "('Jamie', 'George')\n",
      "('Justin', 'Elliott')\n",
      "('John', 'Stanley')\n",
      "('Jasmine', 'Gray')\n",
      "('Jessica', 'Kline')\n",
      "('Justin', 'Deleon')\n",
      "('Jacob', 'Grimes')\n",
      "('Jordan', 'Porter')\n",
      "('Joshua', 'Hansen')\n"
     ]
    }
   ],
   "source": [
    "query = 'SELECT name, surname FROM people WHERE name LIKE \"J%\"'\n",
    "for result in cursor.execute(query):\n",
    "    print(result)"
   ]
  },
  {
   "cell_type": "code",
   "execution_count": 28,
   "metadata": {},
   "outputs": [
    {
     "name": "stdout",
     "output_type": "stream",
     "text": [
      "('Marcus', 'Wong')\n",
      "('Louis', 'Aguilar')\n",
      "('Louis', 'Williams')\n",
      "('Thomas', 'Johnson')\n",
      "('Thomas', 'Gallegos')\n",
      "('Nicholas', 'Garcia')\n",
      "('Dennis', 'Wheeler')\n"
     ]
    }
   ],
   "source": [
    "query = 'SELECT name, surname FROM people WHERE name LIKE \"%____s\"'\n",
    "for result in cursor.execute(query):\n",
    "    print(result)"
   ]
  },
  {
   "cell_type": "code",
   "execution_count": null,
   "metadata": {},
   "outputs": [
    {
     "name": "stdout",
     "output_type": "stream",
     "text": [
      "('Melissa', 'Reeves')\n",
      "('Lindsay', 'Cain')\n",
      "('Susan', 'Rodriguez')\n",
      "('Jesse', 'Wong')\n",
      "('Natasha', 'Campbell')\n",
      "('Madison', 'Gutierrez')\n",
      "('Allison', 'Sanchez')\n"
     ]
    }
   ],
   "source": [
    "query = 'SELECT name, surname FROM people WHERE name LIKE \"%s__\"'\n",
    "for result in cursor.execute(query):\n",
    "    print(result)\n",
    "\n",
    "connection.close()"
   ]
  }
 ],
 "metadata": {
  "kernelspec": {
   "display_name": "Python 3",
   "language": "python",
   "name": "python3"
  },
  "language_info": {
   "codemirror_mode": {
    "name": "ipython",
    "version": 3
   },
   "file_extension": ".py",
   "mimetype": "text/x-python",
   "name": "python",
   "nbconvert_exporter": "python",
   "pygments_lexer": "ipython3",
   "version": "3.12.1"
  }
 },
 "nbformat": 4,
 "nbformat_minor": 2
}
