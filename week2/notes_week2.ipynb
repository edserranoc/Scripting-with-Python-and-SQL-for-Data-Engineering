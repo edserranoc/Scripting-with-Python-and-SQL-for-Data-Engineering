{
 "cells": [
  {
   "cell_type": "markdown",
   "metadata": {},
   "source": [
    "<hr>\n",
    "<div style=\"background-color: lightgray; padding: 20px; color: black;\">\n",
    "<div>\n",
    "<img src=\"https://upload.wikimedia.org/wikipedia/commons/thumb/9/97/Coursera-Logo_600x600.svg/1024px-Coursera-Logo_600x600.svg.png\" style=\"float: right; margin-right: 30px;\" width=\"120\"/> \n",
    "<font size=\"6.5\" color=\"#0056D2\"><b>Python Scripting and SQL</b></font> <br>\n",
    "<font size=\"5.5\" color=\"#0056D2\"><b>Working with Data in Python </b></font> \n",
    "</div>\n",
    "<div style=\"text-align: left\">  <br>\n",
    "Edison David Serrano Cárdenas. <br>\n",
    "MSc in Applied Mathematics <br>\n",
    "CIMAT - Sede Guanajuato <br>\n",
    "</div>\n",
    "\n",
    "</div>\n",
    "<hr>"
   ]
  },
  {
   "cell_type": "markdown",
   "metadata": {},
   "source": [
    "##  <font color=\"#0056D2\" >**Objetives**</font> \n",
    "In this module, you will learn how to use Python scripting techniques to work with SQL. You will create a database, store data, and query that data with SQL from Python."
   ]
  },
  {
   "cell_type": "markdown",
   "metadata": {},
   "source": [
    "## <font color=\"#0056D2\" >**Python Scripting Basics**</font> \n"
   ]
  },
  {
   "cell_type": "markdown",
   "metadata": {},
   "source": [
    "<font color=\"#0056D2\" >**Creating a Script as a Module in Python**</font> \n"
   ]
  },
  {
   "cell_type": "markdown",
   "metadata": {},
   "source": [
    "file: `.example1/main.py`\n",
    "\n",
    "```python\n",
    "print(f\"The name of this module is: {_name_}\")\n",
    "# output:\n",
    "# The name of this module is: __main__\n",
    "```"
   ]
  },
  {
   "cell_type": "markdown",
   "metadata": {},
   "source": [
    "file: `.example1/other.py`\n",
    "\n",
    "```python\n",
    "import main\n",
    "print(f\"The name of this module is: {_name_}\")\n",
    "# output:\n",
    "# The name of this module is: main\n",
    "# The name of this module is: __main__\n",
    "```"
   ]
  },
  {
   "cell_type": "markdown",
   "metadata": {},
   "source": [
    "file: `.example1/main2.py`\n",
    "\n",
    "```python\n",
    "def principal():\n",
    "    print(f\"The name of this module is: {__name__}\")\n",
    "\n",
    "\n",
    "if __name__ == '__main__':\n",
    "    principal()\n",
    "```"
   ]
  },
  {
   "cell_type": "markdown",
   "metadata": {},
   "source": [
    "<font color=\"#0056D2\" >**Traversing the File System with a Script in Python**</font> \n",
    "\n",
    "\n"
   ]
  },
  {
   "cell_type": "markdown",
   "metadata": {},
   "source": [
    "file: `.example2/main.py` Iterate over all files\n",
    "\n",
    "```python\n",
    "import os\n",
    "\n",
    "def main():\n",
    "    for root, directories, files in os.walk(\"/workspaces/Scripting-with-Python-and-SQL-for-Data-Engineering/\"):\n",
    "        #print (f\"Root: {root}\")\n",
    "        #print(f\"Directories {directories}\")\n",
    "        #print(f\"files {files}\")\n",
    "        for _file in files:\n",
    "            absolute_path = os.path.join(root,_file)\n",
    "            print(f\"File path: {absolute_path}\")\n",
    "\n",
    "\n",
    "if __name__ == '__main__':\n",
    "    main()\n",
    "```"
   ]
  },
  {
   "cell_type": "markdown",
   "metadata": {},
   "source": [
    "file: `.example2/main1.py` Iterate over all the directories:\n",
    "\n",
    "```python\n",
    "import os\n",
    "\n",
    "def main():\n",
    "    for root, directories, files in os.walk(\"/workspaces/Scripting-with-Python-and-SQL-for-Data-Engineering/\"):\n",
    "        for dir in directories:\n",
    "            absolute_path = os.path.join(root,dir)\n",
    "            print(f\"File path: {absolute_path}\")\n",
    "\n",
    "\n",
    "if __name__ == '__main__':\n",
    "    main()\n",
    "```"
   ]
  }
 ],
 "metadata": {
  "kernelspec": {
   "display_name": "Python 3",
   "language": "python",
   "name": "python3"
  },
  "language_info": {
   "codemirror_mode": {
    "name": "ipython",
    "version": 3
   },
   "file_extension": ".py",
   "mimetype": "text/x-python",
   "name": "python",
   "nbconvert_exporter": "python",
   "pygments_lexer": "ipython3",
   "version": "3.12.1"
  }
 },
 "nbformat": 4,
 "nbformat_minor": 2
}
