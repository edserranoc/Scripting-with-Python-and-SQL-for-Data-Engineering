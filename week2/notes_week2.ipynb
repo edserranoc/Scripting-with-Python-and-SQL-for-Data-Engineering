{
 "cells": [
  {
   "cell_type": "markdown",
   "metadata": {},
   "source": [
    "<hr>\n",
    "<div style=\"background-color: lightgray; padding: 20px; color: black;\">\n",
    "<div>\n",
    "<img src=\"https://upload.wikimedia.org/wikipedia/commons/thumb/9/97/Coursera-Logo_600x600.svg/1024px-Coursera-Logo_600x600.svg.png\" style=\"float: right; margin-right: 30px;\" width=\"120\"/> \n",
    "<font size=\"6.5\" color=\"#0056D2\"><b>Python Scripting and SQL</b></font> <br>\n",
    "<font size=\"5.5\" color=\"#0056D2\"><b>Working with Data in Python </b></font> \n",
    "</div>\n",
    "<div style=\"text-align: left\">  <br>\n",
    "Edison David Serrano Cárdenas. <br>\n",
    "MSc in Applied Mathematics <br>\n",
    "CIMAT - Sede Guanajuato <br>\n",
    "</div>\n",
    "\n",
    "</div>\n",
    "<hr>"
   ]
  },
  {
   "cell_type": "markdown",
   "metadata": {},
   "source": [
    "##  <font color=\"#0056D2\" >**Objetives**</font> \n",
    "In this module, you will learn how to use Python scripting techniques to work with SQL. You will create a database, store data, and query that data with SQL from Python."
   ]
  },
  {
   "cell_type": "markdown",
   "metadata": {},
   "source": [
    "*Load Libraries:*"
   ]
  },
  {
   "cell_type": "code",
   "execution_count": 1,
   "metadata": {},
   "outputs": [],
   "source": [
    "from faker import Faker\n",
    "import sqlite3"
   ]
  },
  {
   "cell_type": "markdown",
   "metadata": {},
   "source": [
    "## <font color=\"#0056D2\" >**Python Scripting Basics**</font> \n"
   ]
  },
  {
   "cell_type": "markdown",
   "metadata": {},
   "source": [
    "<font color=\"#0056D2\" >**Creating a Script as a Module in Python**</font> \n"
   ]
  },
  {
   "cell_type": "markdown",
   "metadata": {},
   "source": [
    "file: `.example1/main.py`\n",
    "\n",
    "```python\n",
    "print(f\"The name of this module is: {_name_}\")\n",
    "# output:\n",
    "# The name of this module is: __main__\n",
    "```"
   ]
  },
  {
   "cell_type": "markdown",
   "metadata": {},
   "source": [
    "file: `.example1/other.py`\n",
    "\n",
    "```python\n",
    "import main\n",
    "print(f\"The name of this module is: {_name_}\")\n",
    "# output:\n",
    "# The name of this module is: main\n",
    "# The name of this module is: __main__\n",
    "```"
   ]
  },
  {
   "cell_type": "markdown",
   "metadata": {},
   "source": [
    "file: `.example1/main2.py`\n",
    "\n",
    "```python\n",
    "def principal():\n",
    "    print(f\"The name of this module is: {__name__}\")\n",
    "\n",
    "\n",
    "if __name__ == '__main__':\n",
    "    principal()\n",
    "```"
   ]
  },
  {
   "cell_type": "markdown",
   "metadata": {},
   "source": [
    "<font color=\"#0056D2\" >**Traversing the File System with a Script in Python**</font> \n",
    "\n",
    "\n"
   ]
  },
  {
   "cell_type": "markdown",
   "metadata": {},
   "source": [
    "file: `.example2/main.py` Iterate over all files\n",
    "\n",
    "```python\n",
    "import os\n",
    "\n",
    "def main():\n",
    "    for root, directories, files in os.walk(\"/workspaces/Scripting-with-Python-and-SQL-for-Data-Engineering/\"):\n",
    "        #print (f\"Root: {root}\")\n",
    "        #print(f\"Directories {directories}\")\n",
    "        #print(f\"files {files}\")\n",
    "        for _file in files:\n",
    "            absolute_path = os.path.join(root,_file)\n",
    "            print(f\"File path: {absolute_path}\")\n",
    "\n",
    "\n",
    "if __name__ == '__main__':\n",
    "    main()\n",
    "```"
   ]
  },
  {
   "cell_type": "markdown",
   "metadata": {},
   "source": [
    "file: `.example2/main1.py` Iterate over all the directories:\n",
    "\n",
    "```python\n",
    "import os\n",
    "\n",
    "def main():\n",
    "    for root, directories, files in os.walk(\"/workspaces/Scripting-with-Python-and-SQL-for-Data-Engineering/\"):\n",
    "        for dir in directories:\n",
    "            absolute_path = os.path.join(root,dir)\n",
    "            print(f\"File path: {absolute_path}\")\n",
    "\n",
    "\n",
    "if __name__ == '__main__':\n",
    "    main()\n",
    "```"
   ]
  },
  {
   "cell_type": "markdown",
   "metadata": {},
   "source": [
    "## <font color=\"#0056D2\" >**SQLite and Python**</font> \n"
   ]
  },
  {
   "cell_type": "markdown",
   "metadata": {},
   "source": [
    "<font color=\"#0056D2\" >**Key Terms**</font> \n"
   ]
  },
  {
   "cell_type": "markdown",
   "metadata": {},
   "source": [
    "- SQLite        - Embedded, serverless SQL database\n",
    "- Table         - Collection of related data in columns and rows\n",
    "- Query         - SQL statement to insert, retrieve, update, or delete data\n",
    "- Commit        - Make changes permanent in a database transaction\n",
    "- Cursor        - Object to execute queries and fetch results\n",
    "- Primary key   - Unique identifier for a row in a table\n",
    "- Generate      - Produce sample data programmatically\n",
    "- Persist       - Save data so it exists after program execution"
   ]
  },
  {
   "cell_type": "markdown",
   "metadata": {},
   "source": [
    "### <font color=\"#0056D2\" >**Introduction to Embedded Databases**</font> \n"
   ]
  },
  {
   "cell_type": "markdown",
   "metadata": {},
   "source": [
    "<font color=\"#0056D2\" >**What is SQLite?**</font> \n",
    "\n",
    "First off a SQLite database is represented by a file. \n",
    "\n",
    "You will see an actual file in the file system and this is a big difference because if you're dealing with a bigger database like say PostgreSQL, you won't find a single file in that database. \n",
    "\n",
    "Next is that there's no client-server communication. That is, when you're working with say PostgreSQL or MySQL you have a database server, and then you're connecting to it via a client and the connection usually happens over the network also called over the wire. \n",
    "\n",
    "There is no server, there's no process running, you connect to a SQLite database directly without any configuration which is the other feature that an embedded database like SQLite has.\n"
   ]
  },
  {
   "cell_type": "markdown",
   "metadata": {},
   "source": [
    "### <font color=\"#0056D2\" >**Creating and Connecting to a SQLite Database in Python**</font> "
   ]
  },
  {
   "cell_type": "markdown",
   "metadata": {},
   "source": [
    "Create a database, a table in the database and create a commit.\n",
    "\n",
    "file: `./python_scripts/create.py`\n",
    "\n",
    "```python\n",
    "# import SQLite\n",
    "import sqlite3\n",
    "\n",
    "# The next thing that you want to do is create a connection. \n",
    "# I'm just going to name it sample.db\n",
    "connection = sqlite3.connect('sample.db')\n",
    "\n",
    "# I want to create a table\n",
    "table = 'CREATE TABLE people (id integer primary key, name TEXT,surname TEXT)'\n",
    "cursor = connection.cursor()\n",
    "cursor.execute(table)\n",
    "connection.commit()\n",
    "```"
   ]
  },
  {
   "cell_type": "markdown",
   "metadata": {},
   "source": [
    "bash: `console`\n",
    "> ``` bash\n",
    "> [cloudshell-user@... ]$  sqlite3 sample.db \n",
    ">   SQLite version 3.45.1 2024-01-30 16:01:20\n",
    ">   Enter \".help\" for usage hints.\n",
    ">   sqlite>  ...\n",
    "> ```"
   ]
  },
  {
   "cell_type": "markdown",
   "metadata": {},
   "source": [
    "### <font color=\"#0056D2\" >**Saving and Querying from a SQLite Database in Python**</font> "
   ]
  },
  {
   "cell_type": "markdown",
   "metadata": {},
   "source": [
    "*Generate data:* Use Faker. It is a Python package that generates fake data for you."
   ]
  },
  {
   "cell_type": "code",
   "execution_count": 2,
   "metadata": {},
   "outputs": [
    {
     "data": {
      "text/plain": [
       "[['David', 'Brown'],\n",
       " ['Joseph', 'Ferguson'],\n",
       " ['Amy', 'Greene'],\n",
       " ['Matthew', 'Mitchell'],\n",
       " ['Stephanie', 'Wood']]"
      ]
     },
     "execution_count": 2,
     "metadata": {},
     "output_type": "execute_result"
    }
   ],
   "source": [
    "fake = Faker()\n",
    "\n",
    "# Generate a list of 100 names\n",
    "names = [fake.name().split() for _ in range(100)]\n",
    "# Filter names to keep only those with exactly two parts\n",
    "names = [name for name in names if len(name) == 2]\n",
    "names[:5]"
   ]
  },
  {
   "cell_type": "code",
   "execution_count": 3,
   "metadata": {},
   "outputs": [],
   "source": [
    "connection = sqlite3.connect('./data/sample.db')"
   ]
  },
  {
   "cell_type": "markdown",
   "metadata": {},
   "source": [
    "*Insert Query:*"
   ]
  },
  {
   "cell_type": "code",
   "execution_count": 4,
   "metadata": {},
   "outputs": [],
   "source": [
    "insert_query = 'INSERT INTO people(name, surname) VALUES (?, ?)'\n",
    "cursor = connection.cursor()\n",
    "for name in names:\n",
    "    cursor.execute(insert_query, name)\n",
    "connection.commit()"
   ]
  },
  {
   "cell_type": "markdown",
   "metadata": {},
   "source": [
    "*Create a select query:*"
   ]
  },
  {
   "cell_type": "code",
   "execution_count": 5,
   "metadata": {},
   "outputs": [
    {
     "name": "stdout",
     "output_type": "stream",
     "text": [
      "(1, 'David', 'Brown')\n",
      "(2, 'Joseph', 'Ferguson')\n",
      "(3, 'Amy', 'Greene')\n",
      "(4, 'Matthew', 'Mitchell')\n",
      "(5, 'Stephanie', 'Wood')\n",
      "(6, 'Jose', 'Marshall')\n",
      "(7, 'Vicki', 'Hodges')\n",
      "(8, 'Tammy', 'Kelly')\n",
      "(9, 'Kevin', 'Scott')\n",
      "(10, 'Troy', 'Conley')\n"
     ]
    }
   ],
   "source": [
    "select_query = 'SELECT * FROM people LIMIT 10'\n",
    "for i in cursor.execute(select_query):\n",
    "    print(i)"
   ]
  },
  {
   "cell_type": "markdown",
   "metadata": {},
   "source": [
    "> ```bash\n",
    "> [cloudshell-user@... ]$ sqlite3 sample.db \n",
    ">       SQLite version 3.45.1 2024-01-30 16:01:20\n",
    ">       Enter \".help\" for usage hints.\n",
    ">       sqlite> SELECT * from people LIMIT 10;\n",
    ">       1|Sandra|Roberts\n",
    ">       2|Kathryn|Thomas\n",
    ">       3|John|Solomon\n",
    ">       4|Jennifer|Smith\n",
    ">       5|Cole|Ashley\n",
    ">       6|Ethan|Edwards\n",
    ">       7|Andrew|Barker\n",
    ">       8|Joanna|Silva\n",
    ">       9|Sandra|Rosales\n",
    ">       10|John|Bell\n",
    ">       sqlite> \n",
    "> ```"
   ]
  },
  {
   "cell_type": "markdown",
   "metadata": {},
   "source": [
    "### <font color=\"#0056D2\" >**Saving and Querying from a SQLite Database in Python**</font> "
   ]
  },
  {
   "cell_type": "markdown",
   "metadata": {},
   "source": [
    "For the SQL examples, try them in your system by running sqlite3 in your own terminal. You must feel comfortable running or using the terminal in your system."
   ]
  },
  {
   "cell_type": "markdown",
   "metadata": {},
   "source": [
    "<font color=\"#0056D2\" >**Basic SELECT query**</font>\n",
    " \n",
    "```sql\n",
    "-- Create sample table\n",
    "CREATE TABLE users (\n",
    "  id INTEGER PRIMARY KEY, \n",
    "  name TEXT,\n",
    "  email TEXT\n",
    ");\n",
    "\n",
    "-- Insert some data\n",
    "INSERT INTO users VALUES \n",
    "  (1, 'John', 'john@email.com'),\n",
    "  (2, 'Mary', 'mary@email.com'), \n",
    "  (3, 'Robert', 'robert@email.com'),\n",
    "  (4, 'Laura', 'laura@email.com');\n",
    "\n",
    "-- Basic select query\n",
    "SELECT name, email\n",
    "FROM users;\n",
    "```\n"
   ]
  },
  {
   "cell_type": "markdown",
   "metadata": {},
   "source": [
    "<font color=\"#0056D2\" >**Filter with WHERE clause**</font>\n",
    " \n",
    "```sql\n",
    "-- Create sample table\n",
    "CREATE TABLE users (\n",
    "  id INTEGER PRIMARY KEY, \n",
    "  name TEXT,\n",
    "  email TEXT\n",
    ");\n",
    "\n",
    "-- Insert some data\n",
    "INSERT INTO users VALUES \n",
    "  (1, 'John', 'john@email.com'),\n",
    "  (2, 'Mary', 'mary@email.com'), \n",
    "  (3, 'Robert', 'robert@email.com'),\n",
    "  (4, 'Laura', 'laura@email.com');\n",
    "\n",
    "-- Filter with WHERE clause  \n",
    "SELECT *\n",
    "FROM users\n",
    "WHERE name LIKE 'R%';\n",
    "```\n"
   ]
  },
  {
   "cell_type": "markdown",
   "metadata": {},
   "source": [
    "<font color=\"#0056D2\" >**Processing data from the database in Python**</font>\n",
    " \n",
    "```python\n",
    "-results = cursor.execute('SELECT * FROM users')\n",
    "\n",
    "for row in results:\n",
    "  first_name = row[0] \n",
    "  last_name = row[1]\n",
    "  print(f\"{first_name} {last_name}\")\n",
    "```\n"
   ]
  },
  {
   "cell_type": "markdown",
   "metadata": {},
   "source": []
  }
 ],
 "metadata": {
  "kernelspec": {
   "display_name": "venv_gen",
   "language": "python",
   "name": "python3"
  },
  "language_info": {
   "codemirror_mode": {
    "name": "ipython",
    "version": 3
   },
   "file_extension": ".py",
   "mimetype": "text/x-python",
   "name": "python",
   "nbconvert_exporter": "python",
   "pygments_lexer": "ipython3",
   "version": "3.12.3"
  }
 },
 "nbformat": 4,
 "nbformat_minor": 2
}
